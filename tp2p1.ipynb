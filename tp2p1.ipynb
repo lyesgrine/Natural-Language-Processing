{
 "cells": [
  {
   "cell_type": "code",
   "execution_count": 14,
   "metadata": {},
   "outputs": [
    {
     "ename": "SyntaxError",
     "evalue": "invalid syntax (1326566232.py, line 1)",
     "output_type": "error",
     "traceback": [
      "\u001b[1;36m  Cell \u001b[1;32mIn[14], line 1\u001b[1;36m\u001b[0m\n\u001b[1;33m    -*- coding: utf-8 -*-\u001b[0m\n\u001b[1;37m     ^\u001b[0m\n\u001b[1;31mSyntaxError\u001b[0m\u001b[1;31m:\u001b[0m invalid syntax\n"
     ]
    }
   ],
   "source": [
    "-*- coding: utf-8 -*-"
   ]
  },
  {
   "cell_type": "code",
   "execution_count": 1,
   "metadata": {},
   "outputs": [],
   "source": [
    "import sys\n",
    "import encodings"
   ]
  },
  {
   "cell_type": "code",
   "execution_count": 3,
   "metadata": {},
   "outputs": [
    {
     "data": {
      "text/plain": [
       "dict_values(['ascii', 'ascii', 'ascii', 'ascii', 'ascii', 'ascii', 'ascii', 'ascii', 'ascii', 'ascii', 'ascii', 'ascii', 'base64_codec', 'base64_codec', 'big5', 'big5', 'big5hkscs', 'big5hkscs', 'bz2_codec', 'cp037', 'cp037', 'cp037', 'cp037', 'cp037', 'cp037', 'cp037', 'cp037', 'cp1026', 'cp1026', 'cp1026', 'cp1125', 'cp1125', 'cp1125', 'cp1125', 'cp1140', 'cp1140', 'cp1250', 'cp1250', 'cp1251', 'cp1251', 'cp1252', 'cp1252', 'cp1253', 'cp1253', 'cp1254', 'cp1254', 'cp1255', 'cp1255', 'cp1256', 'cp1256', 'cp1257', 'cp1257', 'cp1258', 'cp1258', 'cp273', 'cp273', 'cp273', 'cp424', 'cp424', 'cp424', 'cp424', 'cp437', 'cp437', 'cp437', 'cp500', 'cp500', 'cp500', 'cp500', 'cp500', 'cp775', 'cp775', 'cp775', 'cp850', 'cp850', 'cp850', 'cp852', 'cp852', 'cp852', 'cp855', 'cp855', 'cp855', 'cp857', 'cp857', 'cp857', 'cp858', 'cp858', 'cp858', 'cp860', 'cp860', 'cp860', 'cp861', 'cp861', 'cp861', 'cp861', 'cp862', 'cp862', 'cp862', 'cp863', 'cp863', 'cp863', 'cp864', 'cp864', 'cp864', 'cp865', 'cp865', 'cp865', 'cp866', 'cp866', 'cp866', 'cp869', 'cp869', 'cp869', 'cp869', 'cp932', 'cp932', 'cp932', 'cp932', 'cp949', 'cp949', 'cp949', 'cp950', 'cp950', 'euc_jis_2004', 'euc_jis_2004', 'euc_jis_2004', 'euc_jisx0213', 'euc_jp', 'euc_jp', 'euc_jp', 'euc_kr', 'euc_kr', 'euc_kr', 'euc_kr', 'euc_kr', 'euc_kr', 'euc_kr', 'gb18030', 'gb2312', 'gb2312', 'gb2312', 'gb2312', 'gb2312', 'gb2312', 'gb2312', 'gb2312', 'gbk', 'gbk', 'gbk', 'hex_codec', 'hp_roman8', 'hp_roman8', 'hp_roman8', 'hp_roman8', 'hp_roman8', 'hz', 'hz', 'hz', 'iso2022_jp', 'iso2022_jp', 'iso2022_jp', 'iso2022_jp_1', 'iso2022_jp_1', 'iso2022_jp_2', 'iso2022_jp_2', 'iso2022_jp_2004', 'iso2022_jp_2004', 'iso2022_jp_3', 'iso2022_jp_3', 'iso2022_jp_ext', 'iso2022_jp_ext', 'iso2022_kr', 'iso2022_kr', 'iso2022_kr', 'iso8859_10', 'iso8859_10', 'iso8859_10', 'iso8859_10', 'iso8859_10', 'iso8859_10', 'iso8859_11', 'iso8859_11', 'iso8859_11', 'iso8859_13', 'iso8859_13', 'iso8859_13', 'iso8859_14', 'iso8859_14', 'iso8859_14', 'iso8859_14', 'iso8859_14', 'iso8859_14', 'iso8859_15', 'iso8859_15', 'iso8859_15', 'iso8859_16', 'iso8859_16', 'iso8859_16', 'iso8859_16', 'iso8859_16', 'iso8859_2', 'iso8859_2', 'iso8859_2', 'iso8859_2', 'iso8859_2', 'iso8859_2', 'iso8859_3', 'iso8859_3', 'iso8859_3', 'iso8859_3', 'iso8859_3', 'iso8859_3', 'iso8859_4', 'iso8859_4', 'iso8859_4', 'iso8859_4', 'iso8859_4', 'iso8859_4', 'iso8859_5', 'iso8859_5', 'iso8859_5', 'iso8859_5', 'iso8859_5', 'iso8859_6', 'iso8859_6', 'iso8859_6', 'iso8859_6', 'iso8859_6', 'iso8859_6', 'iso8859_6', 'iso8859_7', 'iso8859_7', 'iso8859_7', 'iso8859_7', 'iso8859_7', 'iso8859_7', 'iso8859_7', 'iso8859_7', 'iso8859_8', 'iso8859_8', 'iso8859_8', 'iso8859_8', 'iso8859_8', 'iso8859_9', 'iso8859_9', 'iso8859_9', 'iso8859_9', 'iso8859_9', 'iso8859_9', 'johab', 'johab', 'koi8_r', 'kz1048', 'kz1048', 'kz1048', 'latin_1', 'latin_1', 'latin_1', 'latin_1', 'latin_1', 'latin_1', 'latin_1', 'latin_1', 'latin_1', 'latin_1', 'latin_1', 'latin_1', 'mac_cyrillic', 'mac_greek', 'mac_iceland', 'mac_latin2', 'mac_latin2', 'mac_latin2', 'mac_roman', 'mac_roman', 'mac_turkish', 'mbcs', 'mbcs', 'ptcp154', 'ptcp154', 'ptcp154', 'ptcp154', 'quopri_codec', 'quopri_codec', 'quopri_codec', 'rot_13', 'shift_jis', 'shift_jis', 'shift_jis', 'shift_jis', 'shift_jis_2004', 'shift_jis_2004', 'shift_jis_2004', 'shift_jisx0213', 'shift_jisx0213', 'shift_jisx0213', 'tis_620', 'tis_620', 'tis_620', 'tis_620', 'tis_620', 'utf_16', 'utf_16', 'utf_16_be', 'utf_16_be', 'utf_16_le', 'utf_16_le', 'utf_32', 'utf_32', 'utf_32_be', 'utf_32_le', 'utf_7', 'utf_7', 'utf_7', 'utf_8', 'utf_8', 'utf_8', 'utf_8', 'utf_8', 'utf_8', 'uu_codec', 'zlib_codec', 'zlib_codec', 'shift_jis', 'euc_kr', 'gb2312', 'big5'])"
      ]
     },
     "execution_count": 3,
     "metadata": {},
     "output_type": "execute_result"
    }
   ],
   "source": [
    "encodages= encodings.aliases.aliases.values()\n",
    "encodages"
   ]
  },
  {
   "cell_type": "code",
   "execution_count": 4,
   "metadata": {},
   "outputs": [
    {
     "data": {
      "text/plain": [
       "{'ascii',\n",
       " 'base64_codec',\n",
       " 'big5',\n",
       " 'big5hkscs',\n",
       " 'bz2_codec',\n",
       " 'cp037',\n",
       " 'cp1026',\n",
       " 'cp1125',\n",
       " 'cp1140',\n",
       " 'cp1250',\n",
       " 'cp1251',\n",
       " 'cp1252',\n",
       " 'cp1253',\n",
       " 'cp1254',\n",
       " 'cp1255',\n",
       " 'cp1256',\n",
       " 'cp1257',\n",
       " 'cp1258',\n",
       " 'cp273',\n",
       " 'cp424',\n",
       " 'cp437',\n",
       " 'cp500',\n",
       " 'cp775',\n",
       " 'cp850',\n",
       " 'cp852',\n",
       " 'cp855',\n",
       " 'cp857',\n",
       " 'cp858',\n",
       " 'cp860',\n",
       " 'cp861',\n",
       " 'cp862',\n",
       " 'cp863',\n",
       " 'cp864',\n",
       " 'cp865',\n",
       " 'cp866',\n",
       " 'cp869',\n",
       " 'cp932',\n",
       " 'cp949',\n",
       " 'cp950',\n",
       " 'euc_jis_2004',\n",
       " 'euc_jisx0213',\n",
       " 'euc_jp',\n",
       " 'euc_kr',\n",
       " 'gb18030',\n",
       " 'gb2312',\n",
       " 'gbk',\n",
       " 'hex_codec',\n",
       " 'hp_roman8',\n",
       " 'hz',\n",
       " 'iso2022_jp',\n",
       " 'iso2022_jp_1',\n",
       " 'iso2022_jp_2',\n",
       " 'iso2022_jp_2004',\n",
       " 'iso2022_jp_3',\n",
       " 'iso2022_jp_ext',\n",
       " 'iso2022_kr',\n",
       " 'iso8859_10',\n",
       " 'iso8859_11',\n",
       " 'iso8859_13',\n",
       " 'iso8859_14',\n",
       " 'iso8859_15',\n",
       " 'iso8859_16',\n",
       " 'iso8859_2',\n",
       " 'iso8859_3',\n",
       " 'iso8859_4',\n",
       " 'iso8859_5',\n",
       " 'iso8859_6',\n",
       " 'iso8859_7',\n",
       " 'iso8859_8',\n",
       " 'iso8859_9',\n",
       " 'johab',\n",
       " 'koi8_r',\n",
       " 'kz1048',\n",
       " 'latin_1',\n",
       " 'mac_cyrillic',\n",
       " 'mac_greek',\n",
       " 'mac_iceland',\n",
       " 'mac_latin2',\n",
       " 'mac_roman',\n",
       " 'mac_turkish',\n",
       " 'mbcs',\n",
       " 'ptcp154',\n",
       " 'quopri_codec',\n",
       " 'rot_13',\n",
       " 'shift_jis',\n",
       " 'shift_jis_2004',\n",
       " 'shift_jisx0213',\n",
       " 'tis_620',\n",
       " 'utf_16',\n",
       " 'utf_16_be',\n",
       " 'utf_16_le',\n",
       " 'utf_32',\n",
       " 'utf_32_be',\n",
       " 'utf_32_le',\n",
       " 'utf_7',\n",
       " 'utf_8',\n",
       " 'uu_codec',\n",
       " 'zlib_codec'}"
      ]
     },
     "execution_count": 4,
     "metadata": {},
     "output_type": "execute_result"
    }
   ],
   "source": [
    "encodages = set(encodages)\n",
    "encodages"
   ]
  },
  {
   "cell_type": "code",
   "execution_count": 5,
   "metadata": {},
   "outputs": [
    {
     "data": {
      "text/plain": [
       "['ascii',\n",
       " 'base64_codec',\n",
       " 'big5',\n",
       " 'big5hkscs',\n",
       " 'bz2_codec',\n",
       " 'cp037',\n",
       " 'cp1026',\n",
       " 'cp1125',\n",
       " 'cp1140',\n",
       " 'cp1250',\n",
       " 'cp1251',\n",
       " 'cp1252',\n",
       " 'cp1253',\n",
       " 'cp1254',\n",
       " 'cp1255',\n",
       " 'cp1256',\n",
       " 'cp1257',\n",
       " 'cp1258',\n",
       " 'cp273',\n",
       " 'cp424',\n",
       " 'cp437',\n",
       " 'cp500',\n",
       " 'cp775',\n",
       " 'cp850',\n",
       " 'cp852',\n",
       " 'cp855',\n",
       " 'cp857',\n",
       " 'cp858',\n",
       " 'cp860',\n",
       " 'cp861',\n",
       " 'cp862',\n",
       " 'cp863',\n",
       " 'cp864',\n",
       " 'cp865',\n",
       " 'cp866',\n",
       " 'cp869',\n",
       " 'cp932',\n",
       " 'cp949',\n",
       " 'cp950',\n",
       " 'euc_jis_2004',\n",
       " 'euc_jisx0213',\n",
       " 'euc_jp',\n",
       " 'euc_kr',\n",
       " 'gb18030',\n",
       " 'gb2312',\n",
       " 'gbk',\n",
       " 'hex_codec',\n",
       " 'hp_roman8',\n",
       " 'hz',\n",
       " 'iso2022_jp',\n",
       " 'iso2022_jp_1',\n",
       " 'iso2022_jp_2',\n",
       " 'iso2022_jp_2004',\n",
       " 'iso2022_jp_3',\n",
       " 'iso2022_jp_ext',\n",
       " 'iso2022_kr',\n",
       " 'iso8859_10',\n",
       " 'iso8859_11',\n",
       " 'iso8859_13',\n",
       " 'iso8859_14',\n",
       " 'iso8859_15',\n",
       " 'iso8859_16',\n",
       " 'iso8859_2',\n",
       " 'iso8859_3',\n",
       " 'iso8859_4',\n",
       " 'iso8859_5',\n",
       " 'iso8859_6',\n",
       " 'iso8859_7',\n",
       " 'iso8859_8',\n",
       " 'iso8859_9',\n",
       " 'johab',\n",
       " 'koi8_r',\n",
       " 'kz1048',\n",
       " 'latin_1',\n",
       " 'mac_cyrillic',\n",
       " 'mac_greek',\n",
       " 'mac_iceland',\n",
       " 'mac_latin2',\n",
       " 'mac_roman',\n",
       " 'mac_turkish',\n",
       " 'mbcs',\n",
       " 'ptcp154',\n",
       " 'quopri_codec',\n",
       " 'rot_13',\n",
       " 'shift_jis',\n",
       " 'shift_jis_2004',\n",
       " 'shift_jisx0213',\n",
       " 'tis_620',\n",
       " 'utf_16',\n",
       " 'utf_16_be',\n",
       " 'utf_16_le',\n",
       " 'utf_32',\n",
       " 'utf_32_be',\n",
       " 'utf_32_le',\n",
       " 'utf_7',\n",
       " 'utf_8',\n",
       " 'uu_codec',\n",
       " 'zlib_codec']"
      ]
     },
     "execution_count": 5,
     "metadata": {},
     "output_type": "execute_result"
    }
   ],
   "source": [
    "encodages = sorted(encodages)\n",
    "encodages"
   ]
  },
  {
   "cell_type": "code",
   "execution_count": 7,
   "metadata": {},
   "outputs": [
    {
     "name": "stdout",
     "output_type": "stream",
     "text": [
      "ascii\n",
      "base64_codec\n",
      "big5\n",
      "big5hkscs\n",
      "bz2_codec\n",
      "cp037\n",
      "cp1026\n",
      "cp1125\n",
      "cp1140\n",
      "cp1250\n",
      "cp1251\n",
      "cp1252\n",
      "cp1253\n",
      "cp1254\n",
      "cp1255\n",
      "cp1256\n",
      "cp1257\n",
      "cp1258\n",
      "cp273\n",
      "cp424\n",
      "cp437\n",
      "cp500\n",
      "cp775\n",
      "cp850\n",
      "cp852\n",
      "cp855\n",
      "cp857\n",
      "cp858\n",
      "cp860\n",
      "cp861\n",
      "cp862\n",
      "cp863\n",
      "cp864\n",
      "cp865\n",
      "cp866\n",
      "cp869\n",
      "cp932\n",
      "cp949\n",
      "cp950\n",
      "euc_jis_2004\n",
      "euc_jisx0213\n",
      "euc_jp\n",
      "euc_kr\n",
      "gb18030\n",
      "gb2312\n",
      "gbk\n",
      "hex_codec\n",
      "hp_roman8\n",
      "hz\n",
      "iso2022_jp\n",
      "iso2022_jp_1\n",
      "iso2022_jp_2\n",
      "iso2022_jp_2004\n",
      "iso2022_jp_3\n",
      "iso2022_jp_ext\n",
      "iso2022_kr\n",
      "iso8859_10\n",
      "iso8859_11\n",
      "iso8859_13\n",
      "iso8859_14\n",
      "iso8859_15\n",
      "iso8859_16\n",
      "iso8859_2\n",
      "iso8859_3\n",
      "iso8859_4\n",
      "iso8859_5\n",
      "iso8859_6\n",
      "iso8859_7\n",
      "iso8859_8\n",
      "iso8859_9\n",
      "johab\n",
      "koi8_r\n",
      "kz1048\n",
      "latin_1\n",
      "mac_cyrillic\n",
      "mac_greek\n",
      "mac_iceland\n",
      "mac_latin2\n",
      "mac_roman\n",
      "mac_turkish\n",
      "mbcs\n",
      "ptcp154\n",
      "quopri_codec\n",
      "rot_13\n",
      "shift_jis\n",
      "shift_jis_2004\n",
      "shift_jisx0213\n",
      "tis_620\n",
      "utf_16\n",
      "utf_16_be\n",
      "utf_16_le\n",
      "utf_32\n",
      "utf_32_be\n",
      "utf_32_le\n",
      "utf_7\n",
      "utf_8\n",
      "uu_codec\n",
      "zlib_codec\n"
     ]
    }
   ],
   "source": [
    "print('\\n'.join(encodages))"
   ]
  },
  {
   "cell_type": "code",
   "execution_count": 8,
   "metadata": {},
   "outputs": [
    {
     "data": {
      "text/plain": [
       "65"
      ]
     },
     "execution_count": 8,
     "metadata": {},
     "output_type": "execute_result"
    }
   ],
   "source": [
    "ord('A')"
   ]
  },
  {
   "cell_type": "code",
   "execution_count": 9,
   "metadata": {},
   "outputs": [
    {
     "data": {
      "text/plain": [
       "'B'"
      ]
     },
     "execution_count": 9,
     "metadata": {},
     "output_type": "execute_result"
    }
   ],
   "source": [
    "chr(66)"
   ]
  },
  {
   "cell_type": "code",
   "execution_count": 11,
   "metadata": {},
   "outputs": [
    {
     "name": "stdout",
     "output_type": "stream",
     "text": [
      "\u0001\n",
      "\u0002\n",
      "\u0003\n",
      "\u0004\n",
      "\u0005\n",
      "\u0006\n",
      "\u0007\n",
      "\b\n",
      "\t\n",
      "\n",
      "\n",
      "\u000b\n",
      "\f\n",
      "\n",
      "\u000e\n",
      "\u000f\n",
      "\u0010\n",
      "\u0011\n",
      "\u0012\n",
      "\u0013\n",
      "\u0014\n",
      "\u0015\n",
      "\u0016\n",
      "\u0017\n",
      "\u0018\n",
      "\u0019\n",
      "\u001a\n",
      "\u001b\n",
      "\u001c\n",
      "\u001d\n",
      "\u001e\n",
      "\u001f\n",
      " \n",
      "!\n",
      "\"\n",
      "#\n",
      "$\n",
      "%\n",
      "&\n",
      "'\n",
      "(\n",
      ")\n",
      "*\n",
      "+\n",
      ",\n",
      "-\n",
      ".\n",
      "/\n",
      "0\n",
      "1\n",
      "2\n",
      "3\n",
      "4\n",
      "5\n",
      "6\n",
      "7\n",
      "8\n",
      "9\n",
      ":\n",
      ";\n",
      "<\n",
      "=\n",
      ">\n",
      "?\n",
      "@\n",
      "A\n",
      "B\n",
      "C\n",
      "D\n",
      "E\n",
      "F\n",
      "G\n",
      "H\n",
      "I\n",
      "J\n",
      "K\n",
      "L\n",
      "M\n",
      "N\n",
      "O\n",
      "P\n",
      "Q\n",
      "R\n",
      "S\n",
      "T\n",
      "U\n",
      "V\n",
      "W\n",
      "X\n",
      "Y\n",
      "Z\n",
      "[\n",
      "\\\n",
      "]\n",
      "^\n",
      "_\n",
      "`\n",
      "a\n",
      "b\n",
      "c\n",
      "d\n",
      "e\n",
      "f\n",
      "g\n",
      "h\n",
      "i\n",
      "j\n",
      "k\n",
      "l\n",
      "m\n",
      "n\n",
      "o\n",
      "p\n",
      "q\n",
      "r\n",
      "s\n",
      "t\n",
      "u\n",
      "v\n",
      "w\n",
      "x\n",
      "y\n",
      "z\n",
      "{\n",
      "|\n",
      "}\n",
      "~\n",
      "\n"
     ]
    }
   ],
   "source": [
    "for i in range(1,128):\n",
    "    print(chr(i))"
   ]
  },
  {
   "cell_type": "code",
   "execution_count": 19,
   "metadata": {},
   "outputs": [
    {
     "name": "stdout",
     "output_type": "stream",
     "text": [
      "ض\n"
     ]
    },
    {
     "data": {
      "text/plain": [
       "'ض'"
      ]
     },
     "execution_count": 19,
     "metadata": {},
     "output_type": "execute_result"
    }
   ],
   "source": [
    "print('\\u0636')\n",
    "'\\u0636'"
   ]
  },
  {
   "cell_type": "code",
   "execution_count": 20,
   "metadata": {},
   "outputs": [
    {
     "name": "stdout",
     "output_type": "stream",
     "text": [
      "Hello <class 'str'>\n"
     ]
    }
   ],
   "source": [
    "ch ='Hello'\n",
    "print(ch, type(ch))"
   ]
  },
  {
   "cell_type": "code",
   "execution_count": 21,
   "metadata": {},
   "outputs": [
    {
     "name": "stdout",
     "output_type": "stream",
     "text": [
      "b'Hello' <class 'str'>\n"
     ]
    }
   ],
   "source": [
    "b =b'Hello'\n",
    "print(b, type(ch))"
   ]
  },
  {
   "cell_type": "code",
   "execution_count": 22,
   "metadata": {},
   "outputs": [
    {
     "ename": "SyntaxError",
     "evalue": "bytes can only contain ASCII literal characters (3564153285.py, line 1)",
     "output_type": "error",
     "traceback": [
      "\u001b[1;36m  Cell \u001b[1;32mIn[22], line 1\u001b[1;36m\u001b[0m\n\u001b[1;33m    b'مرحبا'\u001b[0m\n\u001b[1;37m            ^\u001b[0m\n\u001b[1;31mSyntaxError\u001b[0m\u001b[1;31m:\u001b[0m bytes can only contain ASCII literal characters\n"
     ]
    }
   ],
   "source": [
    "b'مرحبا'"
   ]
  },
  {
   "cell_type": "code",
   "execution_count": 24,
   "metadata": {},
   "outputs": [
    {
     "data": {
      "text/plain": [
       "b'I am a string'"
      ]
     },
     "execution_count": 24,
     "metadata": {},
     "output_type": "execute_result"
    }
   ],
   "source": [
    "st = 'I am a string'\n",
    "b = st.encode('ascii')\n",
    "b"
   ]
  },
  {
   "cell_type": "code",
   "execution_count": 25,
   "metadata": {},
   "outputs": [
    {
     "data": {
      "text/plain": [
       "'I am a string'"
      ]
     },
     "execution_count": 25,
     "metadata": {},
     "output_type": "execute_result"
    }
   ],
   "source": [
    "b.decode('ascii')"
   ]
  },
  {
   "cell_type": "code",
   "execution_count": 26,
   "metadata": {},
   "outputs": [
    {
     "data": {
      "text/plain": [
       "b'I am a string'"
      ]
     },
     "execution_count": 26,
     "metadata": {},
     "output_type": "execute_result"
    }
   ],
   "source": [
    "st = 'I am a string'\n",
    "b = st.encode('utf-8')\n",
    "b"
   ]
  },
  {
   "cell_type": "code",
   "execution_count": 27,
   "metadata": {},
   "outputs": [
    {
     "data": {
      "text/plain": [
       "'I am a string'"
      ]
     },
     "execution_count": 27,
     "metadata": {},
     "output_type": "execute_result"
    }
   ],
   "source": [
    "b.decode('utf-8')"
   ]
  },
  {
   "cell_type": "code",
   "execution_count": 28,
   "metadata": {},
   "outputs": [
    {
     "ename": "UnicodeEncodeError",
     "evalue": "'ascii' codec can't encode character '\\u20ac' in position 38: ordinal not in range(128)",
     "output_type": "error",
     "traceback": [
      "\u001b[1;31m---------------------------------------------------------------------------\u001b[0m",
      "\u001b[1;31mUnicodeEncodeError\u001b[0m                        Traceback (most recent call last)",
      "Cell \u001b[1;32mIn[28], line 2\u001b[0m\n\u001b[0;32m      1\u001b[0m st \u001b[38;5;241m=\u001b[39m \u001b[38;5;124m\"\u001b[39m\u001b[38;5;124mEuro symbol is a non ASCII character: €\u001b[39m\u001b[38;5;124m\"\u001b[39m\n\u001b[1;32m----> 2\u001b[0m b \u001b[38;5;241m=\u001b[39m \u001b[43mst\u001b[49m\u001b[38;5;241;43m.\u001b[39;49m\u001b[43mencode\u001b[49m\u001b[43m(\u001b[49m\u001b[38;5;124;43m'\u001b[39;49m\u001b[38;5;124;43mascii\u001b[39;49m\u001b[38;5;124;43m'\u001b[39;49m\u001b[43m)\u001b[49m\n\u001b[0;32m      3\u001b[0m b\n",
      "\u001b[1;31mUnicodeEncodeError\u001b[0m: 'ascii' codec can't encode character '\\u20ac' in position 38: ordinal not in range(128)"
     ]
    }
   ],
   "source": [
    "st = \"Euro symbol is a non ASCII character: €\"\n",
    "b = st.encode('ascii')\n",
    "b"
   ]
  },
  {
   "cell_type": "code",
   "execution_count": 29,
   "metadata": {},
   "outputs": [
    {
     "data": {
      "text/plain": [
       "b'Euro symbol is a non ASCII character: '"
      ]
     },
     "execution_count": 29,
     "metadata": {},
     "output_type": "execute_result"
    }
   ],
   "source": [
    "st = \"Euro symbol is a non ASCII character: €\"\n",
    "b = st.encode('ascii', errors='ignore')\n",
    "b"
   ]
  },
  {
   "cell_type": "code",
   "execution_count": 30,
   "metadata": {},
   "outputs": [
    {
     "data": {
      "text/plain": [
       "b'Euro symbol is a non ASCII character: \\\\N{EURO SIGN}'"
      ]
     },
     "execution_count": 30,
     "metadata": {},
     "output_type": "execute_result"
    }
   ],
   "source": [
    "st = \"Euro symbol is a non ASCII character: €\"\n",
    "b = st.encode('ascii', errors='namereplace')\n",
    "b"
   ]
  },
  {
   "cell_type": "code",
   "execution_count": 31,
   "metadata": {},
   "outputs": [
    {
     "data": {
      "text/plain": [
       "b'Euro symbol is a non ASCII character: ?'"
      ]
     },
     "execution_count": 31,
     "metadata": {},
     "output_type": "execute_result"
    }
   ],
   "source": [
    "st = \"Euro symbol is a non ASCII character: €\"\n",
    "b = st.encode('ascii', errors='replace')\n",
    "b"
   ]
  },
  {
   "cell_type": "code",
   "execution_count": 33,
   "metadata": {},
   "outputs": [
    {
     "data": {
      "text/plain": [
       "'Euro symbol is a non ASCII character: ?'"
      ]
     },
     "execution_count": 33,
     "metadata": {},
     "output_type": "execute_result"
    }
   ],
   "source": [
    "b.decode('ascii')"
   ]
  },
  {
   "cell_type": "code",
   "execution_count": 35,
   "metadata": {},
   "outputs": [
    {
     "data": {
      "text/plain": [
       "'τoρνoς'"
      ]
     },
     "execution_count": 35,
     "metadata": {},
     "output_type": "execute_result"
    }
   ],
   "source": [
    "st = b'\\xcf\\x84o\\xcf\\x81\\xce\\xbdo\\xcf\\x82'\n",
    "\n",
    "st.decode('utf-8')"
   ]
  },
  {
   "cell_type": "code",
   "execution_count": 36,
   "metadata": {},
   "outputs": [
    {
     "data": {
      "text/plain": [
       "'蓏콯캁澽苏'"
      ]
     },
     "execution_count": 36,
     "metadata": {},
     "output_type": "execute_result"
    }
   ],
   "source": [
    "st.decode('utf-16')"
   ]
  },
  {
   "cell_type": "code",
   "execution_count": 38,
   "metadata": {},
   "outputs": [
    {
     "data": {
      "text/plain": [
       "'The chemical formula of water is H₂O. Water dissociates into H⁺ and OH⁻'"
      ]
     },
     "execution_count": 38,
     "metadata": {},
     "output_type": "execute_result"
    }
   ],
   "source": [
    "san = \"The chemical formula of water is H\\u2082O. Water dissociates into H\\u207A and OH\\u207B\"\n",
    "san"
   ]
  },
  {
   "cell_type": "code",
   "execution_count": 40,
   "metadata": {},
   "outputs": [
    {
     "name": "stdout",
     "output_type": "stream",
     "text": [
      "؀\n",
      "؁\n",
      "؂\n",
      "؃\n",
      "؄\n",
      "؅\n",
      "؆\n",
      "؇\n",
      "؈\n",
      "؉\n",
      "؊\n",
      "؋\n",
      "،\n",
      "؍\n",
      "؎\n",
      "؏\n",
      "ؐ\n",
      "ؑ\n",
      "ؒ\n",
      "ؓ\n",
      "ؔ\n",
      "ؕ\n",
      "ؖ\n",
      "ؗ\n",
      "ؘ\n",
      "ؙ\n",
      "ؚ\n",
      "؛\n",
      "؜\n",
      "؝\n",
      "؞\n",
      "؟\n",
      "ؠ\n",
      "ء\n",
      "آ\n",
      "أ\n",
      "ؤ\n",
      "إ\n",
      "ئ\n",
      "ا\n",
      "ب\n",
      "ة\n",
      "ت\n",
      "ث\n",
      "ج\n",
      "ح\n",
      "خ\n",
      "د\n",
      "ذ\n",
      "ر\n",
      "ز\n",
      "س\n",
      "ش\n",
      "ص\n",
      "ض\n",
      "ط\n",
      "ظ\n",
      "ع\n",
      "غ\n",
      "ػ\n",
      "ؼ\n",
      "ؽ\n",
      "ؾ\n",
      "ؿ\n",
      "ـ\n",
      "ف\n",
      "ق\n",
      "ك\n",
      "ل\n",
      "م\n",
      "ن\n",
      "ه\n",
      "و\n",
      "ى\n",
      "ي\n",
      "ً\n",
      "ٌ\n",
      "ٍ\n",
      "َ\n",
      "ُ\n",
      "ِ\n",
      "ّ\n",
      "ْ\n",
      "ٓ\n",
      "ٔ\n",
      "ٕ\n",
      "ٖ\n",
      "ٗ\n",
      "٘\n",
      "ٙ\n",
      "ٚ\n",
      "ٛ\n",
      "ٜ\n",
      "ٝ\n",
      "ٞ\n",
      "ٟ\n",
      "٠\n",
      "١\n",
      "٢\n",
      "٣\n",
      "٤\n",
      "٥\n",
      "٦\n",
      "٧\n",
      "٨\n",
      "٩\n",
      "٪\n",
      "٫\n",
      "٬\n",
      "٭\n",
      "ٮ\n",
      "ٯ\n",
      "ٰ\n",
      "ٱ\n",
      "ٲ\n",
      "ٳ\n",
      "ٴ\n",
      "ٵ\n",
      "ٶ\n",
      "ٷ\n",
      "ٸ\n",
      "ٹ\n",
      "ٺ\n",
      "ٻ\n",
      "ټ\n",
      "ٽ\n",
      "پ\n",
      "ٿ\n",
      "ڀ\n",
      "ځ\n",
      "ڂ\n",
      "ڃ\n",
      "ڄ\n",
      "څ\n",
      "چ\n",
      "ڇ\n",
      "ڈ\n",
      "ډ\n",
      "ڊ\n",
      "ڋ\n",
      "ڌ\n",
      "ڍ\n",
      "ڎ\n",
      "ڏ\n",
      "ڐ\n",
      "ڑ\n",
      "ڒ\n",
      "ړ\n",
      "ڔ\n",
      "ڕ\n",
      "ږ\n",
      "ڗ\n",
      "ژ\n",
      "ڙ\n",
      "ښ\n",
      "ڛ\n",
      "ڜ\n",
      "ڝ\n",
      "ڞ\n",
      "ڟ\n",
      "ڠ\n",
      "ڡ\n",
      "ڢ\n",
      "ڣ\n",
      "ڤ\n",
      "ڥ\n",
      "ڦ\n",
      "ڧ\n",
      "ڨ\n",
      "ک\n",
      "ڪ\n",
      "ګ\n",
      "ڬ\n",
      "ڭ\n",
      "ڮ\n",
      "گ\n",
      "ڰ\n",
      "ڱ\n",
      "ڲ\n",
      "ڳ\n",
      "ڴ\n",
      "ڵ\n",
      "ڶ\n",
      "ڷ\n",
      "ڸ\n",
      "ڹ\n",
      "ں\n",
      "ڻ\n",
      "ڼ\n",
      "ڽ\n",
      "ھ\n",
      "ڿ\n",
      "ۀ\n",
      "ہ\n",
      "ۂ\n",
      "ۃ\n",
      "ۄ\n",
      "ۅ\n",
      "ۆ\n",
      "ۇ\n",
      "ۈ\n",
      "ۉ\n",
      "ۊ\n",
      "ۋ\n",
      "ی\n",
      "ۍ\n",
      "ێ\n",
      "ۏ\n",
      "ې\n",
      "ۑ\n",
      "ے\n",
      "ۓ\n",
      "۔\n",
      "ە\n",
      "ۖ\n",
      "ۗ\n",
      "ۘ\n",
      "ۙ\n",
      "ۚ\n",
      "ۛ\n",
      "ۜ\n",
      "۝\n",
      "۞\n",
      "۟\n",
      "۠\n",
      "ۡ\n",
      "ۢ\n",
      "ۣ\n",
      "ۤ\n",
      "ۥ\n",
      "ۦ\n",
      "ۧ\n",
      "ۨ\n",
      "۩\n",
      "۪\n",
      "۫\n",
      "۬\n",
      "ۭ\n",
      "ۮ\n",
      "ۯ\n",
      "۰\n",
      "۱\n",
      "۲\n",
      "۳\n",
      "۴\n",
      "۵\n",
      "۶\n",
      "۷\n",
      "۸\n",
      "۹\n",
      "ۺ\n",
      "ۻ\n",
      "ۼ\n",
      "۽\n",
      "۾\n"
     ]
    }
   ],
   "source": [
    "for i in range(1536,1791):\n",
    "    print(chr(i))"
   ]
  },
  {
   "cell_type": "code",
   "execution_count": 41,
   "metadata": {},
   "outputs": [
    {
     "name": "stdout",
     "output_type": "stream",
     "text": [
      "ⴰ\n",
      "ⴱ\n",
      "ⴲ\n",
      "ⴳ\n",
      "ⴴ\n",
      "ⴵ\n",
      "ⴶ\n",
      "ⴷ\n",
      "ⴸ\n",
      "ⴹ\n",
      "ⴺ\n",
      "ⴻ\n",
      "ⴼ\n",
      "ⴽ\n",
      "ⴾ\n",
      "ⴿ\n",
      "ⵀ\n",
      "ⵁ\n",
      "ⵂ\n",
      "ⵃ\n",
      "ⵄ\n",
      "ⵅ\n",
      "ⵆ\n",
      "ⵇ\n",
      "ⵈ\n",
      "ⵉ\n",
      "ⵊ\n",
      "ⵋ\n",
      "ⵌ\n",
      "ⵍ\n",
      "ⵎ\n",
      "ⵏ\n",
      "ⵐ\n",
      "ⵑ\n",
      "ⵒ\n",
      "ⵓ\n",
      "ⵔ\n",
      "ⵕ\n",
      "ⵖ\n",
      "ⵗ\n",
      "ⵘ\n",
      "ⵙ\n",
      "ⵚ\n",
      "ⵛ\n",
      "ⵜ\n",
      "ⵝ\n",
      "ⵞ\n",
      "ⵟ\n",
      "ⵠ\n",
      "ⵡ\n",
      "ⵢ\n",
      "ⵣ\n",
      "ⵤ\n",
      "ⵥ\n",
      "ⵦ\n",
      "ⵧ\n",
      "⵨\n",
      "⵩\n",
      "⵪\n",
      "⵫\n",
      "⵬\n",
      "⵭\n",
      "⵮\n"
     ]
    }
   ],
   "source": [
    "for i in range(11568,11631):\n",
    "    print(chr(i))"
   ]
  },
  {
   "cell_type": "code",
   "execution_count": 42,
   "metadata": {},
   "outputs": [
    {
     "name": "stdout",
     "output_type": "stream",
     "text": [
      "ا\n",
      "ب\n",
      "ة\n",
      "ت\n",
      "ث\n",
      "ج\n",
      "ح\n",
      "خ\n",
      "د\n",
      "ذ\n",
      "ر\n",
      "ز\n",
      "س\n",
      "ش\n",
      "ص\n",
      "ض\n",
      "ط\n",
      "ظ\n",
      "ع\n",
      "غ\n",
      "ػ\n",
      "ؼ\n",
      "ؽ\n",
      "ؾ\n",
      "ؿ\n",
      "ـ\n",
      "ف\n",
      "ق\n",
      "ك\n",
      "ل\n",
      "م\n",
      "ن\n",
      "ه\n",
      "و\n",
      "ى\n",
      "ي\n",
      "ً\n",
      "ٌ\n",
      "ٍ\n",
      "َ\n",
      "ُ\n",
      "ِ\n",
      "ّ\n",
      "ْ\n",
      "ٓ\n",
      "ٔ\n",
      "ٕ\n",
      "ٖ\n",
      "ٗ\n",
      "٘\n",
      "ٙ\n",
      "ٚ\n",
      "ٛ\n",
      "ٜ\n",
      "ٝ\n",
      "ٞ\n",
      "ٟ\n",
      "٠\n",
      "١\n",
      "٢\n",
      "٣\n",
      "٤\n",
      "٥\n",
      "٦\n",
      "٧\n",
      "٨\n",
      "٩\n",
      "٪\n",
      "٫\n",
      "٬\n",
      "٭\n",
      "ٮ\n",
      "ٯ\n",
      "ٰ\n",
      "ٱ\n",
      "ٲ\n",
      "ٳ\n",
      "ٴ\n",
      "ٵ\n",
      "ٶ\n",
      "ٷ\n",
      "ٸ\n",
      "ٹ\n",
      "ٺ\n",
      "ٻ\n",
      "ټ\n",
      "ٽ\n",
      "پ\n",
      "ٿ\n",
      "ڀ\n",
      "ځ\n",
      "ڂ\n",
      "ڃ\n",
      "ڄ\n",
      "څ\n",
      "چ\n",
      "ڇ\n",
      "ڈ\n",
      "ډ\n",
      "ڊ\n",
      "ڋ\n",
      "ڌ\n",
      "ڍ\n",
      "ڎ\n",
      "ڏ\n",
      "ڐ\n",
      "ڑ\n",
      "ڒ\n",
      "ړ\n",
      "ڔ\n",
      "ڕ\n",
      "ږ\n",
      "ڗ\n",
      "ژ\n",
      "ڙ\n",
      "ښ\n",
      "ڛ\n",
      "ڜ\n",
      "ڝ\n",
      "ڞ\n",
      "ڟ\n",
      "ڠ\n",
      "ڡ\n",
      "ڢ\n",
      "ڣ\n",
      "ڤ\n",
      "ڥ\n",
      "ڦ\n",
      "ڧ\n",
      "ڨ\n",
      "ک\n",
      "ڪ\n",
      "ګ\n",
      "ڬ\n",
      "ڭ\n",
      "ڮ\n",
      "گ\n",
      "ڰ\n",
      "ڱ\n",
      "ڲ\n",
      "ڳ\n",
      "ڴ\n",
      "ڵ\n",
      "ڶ\n",
      "ڷ\n",
      "ڸ\n",
      "ڹ\n",
      "ں\n",
      "ڻ\n",
      "ڼ\n",
      "ڽ\n",
      "ھ\n",
      "ڿ\n",
      "ۀ\n",
      "ہ\n",
      "ۂ\n",
      "ۃ\n",
      "ۄ\n",
      "ۅ\n",
      "ۆ\n",
      "ۇ\n",
      "ۈ\n",
      "ۉ\n",
      "ۊ\n",
      "ۋ\n",
      "ی\n",
      "ۍ\n",
      "ێ\n",
      "ۏ\n",
      "ې\n",
      "ۑ\n",
      "ے\n",
      "ۓ\n",
      "۔\n",
      "ە\n",
      "ۖ\n",
      "ۗ\n",
      "ۘ\n",
      "ۙ\n",
      "ۚ\n",
      "ۛ\n",
      "ۜ\n",
      "۝\n",
      "۞\n",
      "۟\n",
      "۠\n",
      "ۡ\n",
      "ۢ\n",
      "ۣ\n",
      "ۤ\n",
      "ۥ\n",
      "ۦ\n",
      "ۧ\n",
      "ۨ\n",
      "۩\n",
      "۪\n",
      "۫\n",
      "۬\n",
      "ۭ\n",
      "ۮ\n",
      "ۯ\n",
      "۰\n",
      "۱\n",
      "۲\n",
      "۳\n",
      "۴\n",
      "۵\n",
      "۶\n",
      "۷\n",
      "۸\n",
      "۹\n",
      "ۺ\n",
      "ۻ\n",
      "ۼ\n",
      "۽\n",
      "۾\n"
     ]
    }
   ],
   "source": [
    "import unicodedata\n",
    "for i in range(1575,1791):\n",
    "    print(chr(i))"
   ]
  },
  {
   "cell_type": "code",
   "execution_count": 43,
   "metadata": {},
   "outputs": [
    {
     "name": "stdout",
     "output_type": "stream",
     "text": [
      "ا ARABIC LETTER ALEF\n",
      "ب ARABIC LETTER BEH\n",
      "ة ARABIC LETTER TEH MARBUTA\n",
      "ت ARABIC LETTER TEH\n",
      "ث ARABIC LETTER THEH\n",
      "ج ARABIC LETTER JEEM\n",
      "ح ARABIC LETTER HAH\n",
      "خ ARABIC LETTER KHAH\n",
      "د ARABIC LETTER DAL\n",
      "ذ ARABIC LETTER THAL\n",
      "ر ARABIC LETTER REH\n",
      "ز ARABIC LETTER ZAIN\n",
      "س ARABIC LETTER SEEN\n",
      "ش ARABIC LETTER SHEEN\n",
      "ص ARABIC LETTER SAD\n",
      "ض ARABIC LETTER DAD\n",
      "ط ARABIC LETTER TAH\n",
      "ظ ARABIC LETTER ZAH\n",
      "ع ARABIC LETTER AIN\n",
      "غ ARABIC LETTER GHAIN\n",
      "ػ ARABIC LETTER KEHEH WITH TWO DOTS ABOVE\n",
      "ؼ ARABIC LETTER KEHEH WITH THREE DOTS BELOW\n",
      "ؽ ARABIC LETTER FARSI YEH WITH INVERTED V\n",
      "ؾ ARABIC LETTER FARSI YEH WITH TWO DOTS ABOVE\n",
      "ؿ ARABIC LETTER FARSI YEH WITH THREE DOTS ABOVE\n",
      "ـ ARABIC TATWEEL\n",
      "ف ARABIC LETTER FEH\n",
      "ق ARABIC LETTER QAF\n",
      "ك ARABIC LETTER KAF\n",
      "ل ARABIC LETTER LAM\n",
      "م ARABIC LETTER MEEM\n",
      "ن ARABIC LETTER NOON\n",
      "ه ARABIC LETTER HEH\n",
      "و ARABIC LETTER WAW\n",
      "ى ARABIC LETTER ALEF MAKSURA\n",
      "ي ARABIC LETTER YEH\n",
      "ً ARABIC FATHATAN\n",
      "ٌ ARABIC DAMMATAN\n",
      "ٍ ARABIC KASRATAN\n",
      "َ ARABIC FATHA\n",
      "ُ ARABIC DAMMA\n",
      "ِ ARABIC KASRA\n",
      "ّ ARABIC SHADDA\n",
      "ْ ARABIC SUKUN\n",
      "ٓ ARABIC MADDAH ABOVE\n",
      "ٔ ARABIC HAMZA ABOVE\n",
      "ٕ ARABIC HAMZA BELOW\n",
      "ٖ ARABIC SUBSCRIPT ALEF\n",
      "ٗ ARABIC INVERTED DAMMA\n",
      "٘ ARABIC MARK NOON GHUNNA\n",
      "ٙ ARABIC ZWARAKAY\n",
      "ٚ ARABIC VOWEL SIGN SMALL V ABOVE\n",
      "ٛ ARABIC VOWEL SIGN INVERTED SMALL V ABOVE\n",
      "ٜ ARABIC VOWEL SIGN DOT BELOW\n",
      "ٝ ARABIC REVERSED DAMMA\n",
      "ٞ ARABIC FATHA WITH TWO DOTS\n",
      "ٟ ARABIC WAVY HAMZA BELOW\n",
      "٠ ARABIC-INDIC DIGIT ZERO\n",
      "١ ARABIC-INDIC DIGIT ONE\n",
      "٢ ARABIC-INDIC DIGIT TWO\n",
      "٣ ARABIC-INDIC DIGIT THREE\n",
      "٤ ARABIC-INDIC DIGIT FOUR\n",
      "٥ ARABIC-INDIC DIGIT FIVE\n",
      "٦ ARABIC-INDIC DIGIT SIX\n",
      "٧ ARABIC-INDIC DIGIT SEVEN\n",
      "٨ ARABIC-INDIC DIGIT EIGHT\n",
      "٩ ARABIC-INDIC DIGIT NINE\n",
      "٪ ARABIC PERCENT SIGN\n",
      "٫ ARABIC DECIMAL SEPARATOR\n",
      "٬ ARABIC THOUSANDS SEPARATOR\n",
      "٭ ARABIC FIVE POINTED STAR\n",
      "ٮ ARABIC LETTER DOTLESS BEH\n",
      "ٯ ARABIC LETTER DOTLESS QAF\n",
      "ٰ ARABIC LETTER SUPERSCRIPT ALEF\n",
      "ٱ ARABIC LETTER ALEF WASLA\n",
      "ٲ ARABIC LETTER ALEF WITH WAVY HAMZA ABOVE\n",
      "ٳ ARABIC LETTER ALEF WITH WAVY HAMZA BELOW\n",
      "ٴ ARABIC LETTER HIGH HAMZA\n",
      "ٵ ARABIC LETTER HIGH HAMZA ALEF\n",
      "ٶ ARABIC LETTER HIGH HAMZA WAW\n",
      "ٷ ARABIC LETTER U WITH HAMZA ABOVE\n",
      "ٸ ARABIC LETTER HIGH HAMZA YEH\n",
      "ٹ ARABIC LETTER TTEH\n",
      "ٺ ARABIC LETTER TTEHEH\n",
      "ٻ ARABIC LETTER BEEH\n",
      "ټ ARABIC LETTER TEH WITH RING\n",
      "ٽ ARABIC LETTER TEH WITH THREE DOTS ABOVE DOWNWARDS\n",
      "پ ARABIC LETTER PEH\n",
      "ٿ ARABIC LETTER TEHEH\n",
      "ڀ ARABIC LETTER BEHEH\n",
      "ځ ARABIC LETTER HAH WITH HAMZA ABOVE\n",
      "ڂ ARABIC LETTER HAH WITH TWO DOTS VERTICAL ABOVE\n",
      "ڃ ARABIC LETTER NYEH\n",
      "ڄ ARABIC LETTER DYEH\n",
      "څ ARABIC LETTER HAH WITH THREE DOTS ABOVE\n",
      "چ ARABIC LETTER TCHEH\n",
      "ڇ ARABIC LETTER TCHEHEH\n",
      "ڈ ARABIC LETTER DDAL\n",
      "ډ ARABIC LETTER DAL WITH RING\n",
      "ڊ ARABIC LETTER DAL WITH DOT BELOW\n",
      "ڋ ARABIC LETTER DAL WITH DOT BELOW AND SMALL TAH\n",
      "ڌ ARABIC LETTER DAHAL\n",
      "ڍ ARABIC LETTER DDAHAL\n",
      "ڎ ARABIC LETTER DUL\n",
      "ڏ ARABIC LETTER DAL WITH THREE DOTS ABOVE DOWNWARDS\n",
      "ڐ ARABIC LETTER DAL WITH FOUR DOTS ABOVE\n",
      "ڑ ARABIC LETTER RREH\n",
      "ڒ ARABIC LETTER REH WITH SMALL V\n",
      "ړ ARABIC LETTER REH WITH RING\n",
      "ڔ ARABIC LETTER REH WITH DOT BELOW\n",
      "ڕ ARABIC LETTER REH WITH SMALL V BELOW\n",
      "ږ ARABIC LETTER REH WITH DOT BELOW AND DOT ABOVE\n",
      "ڗ ARABIC LETTER REH WITH TWO DOTS ABOVE\n",
      "ژ ARABIC LETTER JEH\n",
      "ڙ ARABIC LETTER REH WITH FOUR DOTS ABOVE\n",
      "ښ ARABIC LETTER SEEN WITH DOT BELOW AND DOT ABOVE\n",
      "ڛ ARABIC LETTER SEEN WITH THREE DOTS BELOW\n",
      "ڜ ARABIC LETTER SEEN WITH THREE DOTS BELOW AND THREE DOTS ABOVE\n",
      "ڝ ARABIC LETTER SAD WITH TWO DOTS BELOW\n",
      "ڞ ARABIC LETTER SAD WITH THREE DOTS ABOVE\n",
      "ڟ ARABIC LETTER TAH WITH THREE DOTS ABOVE\n",
      "ڠ ARABIC LETTER AIN WITH THREE DOTS ABOVE\n",
      "ڡ ARABIC LETTER DOTLESS FEH\n",
      "ڢ ARABIC LETTER FEH WITH DOT MOVED BELOW\n",
      "ڣ ARABIC LETTER FEH WITH DOT BELOW\n",
      "ڤ ARABIC LETTER VEH\n",
      "ڥ ARABIC LETTER FEH WITH THREE DOTS BELOW\n",
      "ڦ ARABIC LETTER PEHEH\n",
      "ڧ ARABIC LETTER QAF WITH DOT ABOVE\n",
      "ڨ ARABIC LETTER QAF WITH THREE DOTS ABOVE\n",
      "ک ARABIC LETTER KEHEH\n",
      "ڪ ARABIC LETTER SWASH KAF\n",
      "ګ ARABIC LETTER KAF WITH RING\n",
      "ڬ ARABIC LETTER KAF WITH DOT ABOVE\n",
      "ڭ ARABIC LETTER NG\n",
      "ڮ ARABIC LETTER KAF WITH THREE DOTS BELOW\n",
      "گ ARABIC LETTER GAF\n",
      "ڰ ARABIC LETTER GAF WITH RING\n",
      "ڱ ARABIC LETTER NGOEH\n",
      "ڲ ARABIC LETTER GAF WITH TWO DOTS BELOW\n",
      "ڳ ARABIC LETTER GUEH\n",
      "ڴ ARABIC LETTER GAF WITH THREE DOTS ABOVE\n",
      "ڵ ARABIC LETTER LAM WITH SMALL V\n",
      "ڶ ARABIC LETTER LAM WITH DOT ABOVE\n",
      "ڷ ARABIC LETTER LAM WITH THREE DOTS ABOVE\n",
      "ڸ ARABIC LETTER LAM WITH THREE DOTS BELOW\n",
      "ڹ ARABIC LETTER NOON WITH DOT BELOW\n",
      "ں ARABIC LETTER NOON GHUNNA\n",
      "ڻ ARABIC LETTER RNOON\n",
      "ڼ ARABIC LETTER NOON WITH RING\n",
      "ڽ ARABIC LETTER NOON WITH THREE DOTS ABOVE\n",
      "ھ ARABIC LETTER HEH DOACHASHMEE\n",
      "ڿ ARABIC LETTER TCHEH WITH DOT ABOVE\n",
      "ۀ ARABIC LETTER HEH WITH YEH ABOVE\n",
      "ہ ARABIC LETTER HEH GOAL\n",
      "ۂ ARABIC LETTER HEH GOAL WITH HAMZA ABOVE\n",
      "ۃ ARABIC LETTER TEH MARBUTA GOAL\n",
      "ۄ ARABIC LETTER WAW WITH RING\n",
      "ۅ ARABIC LETTER KIRGHIZ OE\n",
      "ۆ ARABIC LETTER OE\n",
      "ۇ ARABIC LETTER U\n",
      "ۈ ARABIC LETTER YU\n",
      "ۉ ARABIC LETTER KIRGHIZ YU\n",
      "ۊ ARABIC LETTER WAW WITH TWO DOTS ABOVE\n",
      "ۋ ARABIC LETTER VE\n",
      "ی ARABIC LETTER FARSI YEH\n",
      "ۍ ARABIC LETTER YEH WITH TAIL\n",
      "ێ ARABIC LETTER YEH WITH SMALL V\n",
      "ۏ ARABIC LETTER WAW WITH DOT ABOVE\n",
      "ې ARABIC LETTER E\n",
      "ۑ ARABIC LETTER YEH WITH THREE DOTS BELOW\n",
      "ے ARABIC LETTER YEH BARREE\n",
      "ۓ ARABIC LETTER YEH BARREE WITH HAMZA ABOVE\n",
      "۔ ARABIC FULL STOP\n",
      "ە ARABIC LETTER AE\n",
      "ۖ ARABIC SMALL HIGH LIGATURE SAD WITH LAM WITH ALEF MAKSURA\n",
      "ۗ ARABIC SMALL HIGH LIGATURE QAF WITH LAM WITH ALEF MAKSURA\n",
      "ۘ ARABIC SMALL HIGH MEEM INITIAL FORM\n",
      "ۙ ARABIC SMALL HIGH LAM ALEF\n",
      "ۚ ARABIC SMALL HIGH JEEM\n",
      "ۛ ARABIC SMALL HIGH THREE DOTS\n",
      "ۜ ARABIC SMALL HIGH SEEN\n",
      "۝ ARABIC END OF AYAH\n",
      "۞ ARABIC START OF RUB EL HIZB\n",
      "۟ ARABIC SMALL HIGH ROUNDED ZERO\n",
      "۠ ARABIC SMALL HIGH UPRIGHT RECTANGULAR ZERO\n",
      "ۡ ARABIC SMALL HIGH DOTLESS HEAD OF KHAH\n",
      "ۢ ARABIC SMALL HIGH MEEM ISOLATED FORM\n",
      "ۣ ARABIC SMALL LOW SEEN\n",
      "ۤ ARABIC SMALL HIGH MADDA\n",
      "ۥ ARABIC SMALL WAW\n",
      "ۦ ARABIC SMALL YEH\n",
      "ۧ ARABIC SMALL HIGH YEH\n",
      "ۨ ARABIC SMALL HIGH NOON\n",
      "۩ ARABIC PLACE OF SAJDAH\n",
      "۪ ARABIC EMPTY CENTRE LOW STOP\n",
      "۫ ARABIC EMPTY CENTRE HIGH STOP\n",
      "۬ ARABIC ROUNDED HIGH STOP WITH FILLED CENTRE\n",
      "ۭ ARABIC SMALL LOW MEEM\n",
      "ۮ ARABIC LETTER DAL WITH INVERTED V\n",
      "ۯ ARABIC LETTER REH WITH INVERTED V\n",
      "۰ EXTENDED ARABIC-INDIC DIGIT ZERO\n",
      "۱ EXTENDED ARABIC-INDIC DIGIT ONE\n",
      "۲ EXTENDED ARABIC-INDIC DIGIT TWO\n",
      "۳ EXTENDED ARABIC-INDIC DIGIT THREE\n",
      "۴ EXTENDED ARABIC-INDIC DIGIT FOUR\n",
      "۵ EXTENDED ARABIC-INDIC DIGIT FIVE\n",
      "۶ EXTENDED ARABIC-INDIC DIGIT SIX\n",
      "۷ EXTENDED ARABIC-INDIC DIGIT SEVEN\n",
      "۸ EXTENDED ARABIC-INDIC DIGIT EIGHT\n",
      "۹ EXTENDED ARABIC-INDIC DIGIT NINE\n",
      "ۺ ARABIC LETTER SHEEN WITH DOT BELOW\n",
      "ۻ ARABIC LETTER DAD WITH DOT BELOW\n",
      "ۼ ARABIC LETTER GHAIN WITH DOT BELOW\n",
      "۽ ARABIC SIGN SINDHI AMPERSAND\n",
      "۾ ARABIC SIGN SINDHI POSTPOSITION MEN\n"
     ]
    }
   ],
   "source": [
    "import unicodedata as un\n",
    "for i in range(1575,1791):\n",
    "    print(chr(i), un.name(chr(i)))"
   ]
  },
  {
   "cell_type": "code",
   "execution_count": 44,
   "metadata": {},
   "outputs": [],
   "source": [
    "text = \"I'm Very Hungry. I want to eat something, maybe an apple.\""
   ]
  },
  {
   "cell_type": "code",
   "execution_count": 45,
   "metadata": {},
   "outputs": [
    {
     "data": {
      "text/plain": [
       "[\"I'm Very Hungry\", ' I want to eat something, maybe an apple', '']"
      ]
     },
     "execution_count": 45,
     "metadata": {},
     "output_type": "execute_result"
    }
   ],
   "source": [
    "text.split('.')"
   ]
  },
  {
   "cell_type": "code",
   "execution_count": 46,
   "metadata": {},
   "outputs": [
    {
     "data": {
      "text/plain": [
       "[\"I'm\",\n",
       " 'Very',\n",
       " 'Hungry.',\n",
       " 'I',\n",
       " 'want',\n",
       " 'to',\n",
       " 'eat',\n",
       " 'something,',\n",
       " 'maybe',\n",
       " 'an',\n",
       " 'apple.']"
      ]
     },
     "execution_count": 46,
     "metadata": {},
     "output_type": "execute_result"
    }
   ],
   "source": [
    "text.split(' ')"
   ]
  },
  {
   "cell_type": "code",
   "execution_count": 47,
   "metadata": {},
   "outputs": [
    {
     "data": {
      "text/plain": [
       "['apple', 'banana', 'cherry', 'orange']"
      ]
     },
     "execution_count": 47,
     "metadata": {},
     "output_type": "execute_result"
    }
   ],
   "source": [
    "ex = \"apple#banana#cherry#orange\"\n",
    "ex.split('#')"
   ]
  },
  {
   "cell_type": "code",
   "execution_count": 49,
   "metadata": {},
   "outputs": [
    {
     "data": {
      "text/plain": [
       "['apple', 'banana', 'cherry#orange']"
      ]
     },
     "execution_count": 49,
     "metadata": {},
     "output_type": "execute_result"
    }
   ],
   "source": [
    "ex.split('#', maxsplit=2)"
   ]
  },
  {
   "cell_type": "code",
   "execution_count": 50,
   "metadata": {},
   "outputs": [],
   "source": [
    "import re"
   ]
  },
  {
   "cell_type": "code",
   "execution_count": 55,
   "metadata": {},
   "outputs": [
    {
     "name": "stdout",
     "output_type": "stream",
     "text": [
      "No\n"
     ]
    }
   ],
   "source": [
    "b = re.search(\"^I.*apple$\", text)\n",
    "if b:\n",
    "  print(\"YES!\")\n",
    "else:\n",
    "  print(\"No\")"
   ]
  },
  {
   "cell_type": "code",
   "execution_count": 56,
   "metadata": {},
   "outputs": [
    {
     "name": "stdout",
     "output_type": "stream",
     "text": [
      "YES!\n"
     ]
    }
   ],
   "source": [
    "b = re.search(\"^I.*apple.$\", text)\n",
    "if b:\n",
    "  print(\"YES!\")\n",
    "else:\n",
    "  print(\"No\")"
   ]
  },
  {
   "cell_type": "code",
   "execution_count": 57,
   "metadata": {},
   "outputs": [
    {
     "data": {
      "text/plain": [
       "[\"I'm\",\n",
       " 'Very',\n",
       " 'Hungry',\n",
       " 'I',\n",
       " 'want',\n",
       " 'to',\n",
       " 'eat',\n",
       " 'something',\n",
       " 'maybe',\n",
       " 'an',\n",
       " 'apple',\n",
       " '']"
      ]
     },
     "execution_count": 57,
     "metadata": {},
     "output_type": "execute_result"
    }
   ],
   "source": [
    "re.split('[., ]+', text)"
   ]
  },
  {
   "cell_type": "code",
   "execution_count": 66,
   "metadata": {},
   "outputs": [
    {
     "data": {
      "text/plain": [
       "['I',\n",
       " 'm',\n",
       " 'Very',\n",
       " 'Hungry',\n",
       " 'I',\n",
       " 'want',\n",
       " 'to',\n",
       " 'eat',\n",
       " 'something',\n",
       " 'maybe',\n",
       " 'an',\n",
       " 'apple',\n",
       " '']"
      ]
     },
     "execution_count": 66,
     "metadata": {},
     "output_type": "execute_result"
    }
   ],
   "source": [
    "re.split('\\W+', text)"
   ]
  },
  {
   "cell_type": "code",
   "execution_count": 60,
   "metadata": {},
   "outputs": [
    {
     "data": {
      "text/plain": [
       "['', \"'\", ' ', ' ', '. ', ' ', ' ', ' ', ' ', ', ', ' ', ' ', '.']"
      ]
     },
     "execution_count": 60,
     "metadata": {},
     "output_type": "execute_result"
    }
   ],
   "source": [
    "re.split('\\w+', text)"
   ]
  },
  {
   "cell_type": "code",
   "execution_count": 67,
   "metadata": {},
   "outputs": [
    {
     "data": {
      "text/plain": [
       "['I',\n",
       " \"'\",\n",
       " 'm',\n",
       " ' ',\n",
       " 'Very',\n",
       " ' ',\n",
       " 'Hungry',\n",
       " '. ',\n",
       " 'I',\n",
       " ' ',\n",
       " 'want',\n",
       " ' ',\n",
       " 'to',\n",
       " ' ',\n",
       " 'eat',\n",
       " ' ',\n",
       " 'something',\n",
       " ', ',\n",
       " 'maybe',\n",
       " ' ',\n",
       " 'an',\n",
       " ' ',\n",
       " 'apple',\n",
       " '.',\n",
       " '']"
      ]
     },
     "execution_count": 67,
     "metadata": {},
     "output_type": "execute_result"
    }
   ],
   "source": [
    "re.split('(\\W+)', text)"
   ]
  }
 ],
 "metadata": {
  "kernelspec": {
   "display_name": "Python 3",
   "language": "python",
   "name": "python3"
  },
  "language_info": {
   "codemirror_mode": {
    "name": "ipython",
    "version": 3
   },
   "file_extension": ".py",
   "mimetype": "text/x-python",
   "name": "python",
   "nbconvert_exporter": "python",
   "pygments_lexer": "ipython3",
   "version": "3.10.1"
  }
 },
 "nbformat": 4,
 "nbformat_minor": 2
}
