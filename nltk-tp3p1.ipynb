{
 "cells": [
  {
   "cell_type": "code",
   "execution_count": 2,
   "metadata": {},
   "outputs": [],
   "source": [
    "import nltk"
   ]
  },
  {
   "cell_type": "code",
   "execution_count": 4,
   "metadata": {},
   "outputs": [],
   "source": [
    "from nltk.tokenize import word_tokenize\n",
    "from nltk.tokenize import RegexpTokenizer\n",
    "from nltk.tokenize import TweetTokenizer\n",
    "from nltk.tokenize import sent_tokenize\n"
   ]
  },
  {
   "cell_type": "code",
   "execution_count": 7,
   "metadata": {},
   "outputs": [],
   "source": [
    "from nltk.tag import pos_tag\n",
    "from nltk.corpus import stopwords\n",
    "from nltk.stem import PorterStemmer, LancasterStemmer, WordNetLemmatizer\n",
    "from collections import Counter\n",
    "from nltk.corpus import wordnet\n"
   ]
  },
  {
   "cell_type": "code",
   "execution_count": 8,
   "metadata": {},
   "outputs": [],
   "source": [
    "text = \"POS Tagging is a process to mark up the words in text format for a particular part of a speech, based on its definition and context.\""
   ]
  },
  {
   "cell_type": "code",
   "execution_count": 9,
   "metadata": {},
   "outputs": [
    {
     "data": {
      "text/plain": [
       "['POS',\n",
       " 'Tagging',\n",
       " 'is',\n",
       " 'a',\n",
       " 'process',\n",
       " 'to',\n",
       " 'mark',\n",
       " 'up',\n",
       " 'the',\n",
       " 'words',\n",
       " 'in',\n",
       " 'text',\n",
       " 'format',\n",
       " 'for',\n",
       " 'a',\n",
       " 'particular',\n",
       " 'part',\n",
       " 'of',\n",
       " 'a',\n",
       " 'speech',\n",
       " ',',\n",
       " 'based',\n",
       " 'on',\n",
       " 'its',\n",
       " 'definition',\n",
       " 'and',\n",
       " 'context',\n",
       " '.']"
      ]
     },
     "execution_count": 9,
     "metadata": {},
     "output_type": "execute_result"
    }
   ],
   "source": [
    "tokens = word_tokenize(text)\n",
    "tokens"
   ]
  },
  {
   "cell_type": "code",
   "execution_count": 10,
   "metadata": {},
   "outputs": [
    {
     "data": {
      "text/plain": [
       "['POS',\n",
       " 'Tagging',\n",
       " 'is',\n",
       " 'a',\n",
       " 'process',\n",
       " 'to',\n",
       " 'mark',\n",
       " 'up',\n",
       " 'the',\n",
       " 'words',\n",
       " 'in',\n",
       " 'text',\n",
       " 'format',\n",
       " 'for',\n",
       " 'a',\n",
       " 'particular',\n",
       " 'part',\n",
       " 'of',\n",
       " 'a',\n",
       " 'speech',\n",
       " 'based',\n",
       " 'on',\n",
       " 'its',\n",
       " 'definition',\n",
       " 'and',\n",
       " 'context']"
      ]
     },
     "execution_count": 10,
     "metadata": {},
     "output_type": "execute_result"
    }
   ],
   "source": [
    "tokenizer = RegexpTokenizer(r'\\w+')\n",
    "tokens = tokenizer.tokenize(text)\n",
    "tokens"
   ]
  },
  {
   "cell_type": "code",
   "execution_count": 12,
   "metadata": {},
   "outputs": [
    {
     "name": "stdout",
     "output_type": "stream",
     "text": [
      "['arabic', 'azerbaijani', 'basque', 'bengali', 'catalan', 'chinese', 'danish', 'dutch', 'english', 'finnish', 'french', 'german', 'greek', 'hebrew', 'hinglish', 'hungarian', 'indonesian', 'italian', 'kazakh', 'nepali', 'norwegian', 'portuguese', 'romanian', 'russian', 'slovene', 'spanish', 'swedish', 'tajik', 'turkish']\n"
     ]
    }
   ],
   "source": [
    "print(stopwords.fileids())"
   ]
  },
  {
   "cell_type": "code",
   "execution_count": 13,
   "metadata": {},
   "outputs": [
    {
     "data": {
      "text/plain": [
       "['i', 'me', 'my', 'myself', 'we', 'our', 'ours', 'ourselves', 'you', \"you're\"]"
      ]
     },
     "execution_count": 13,
     "metadata": {},
     "output_type": "execute_result"
    }
   ],
   "source": [
    "en_sw = stopwords.words('english')\n",
    "en_sw[:10]"
   ]
  },
  {
   "cell_type": "code",
   "execution_count": 15,
   "metadata": {},
   "outputs": [
    {
     "data": {
      "text/plain": [
       "['إذ', 'إذا', 'إذما', 'إذن', 'أف', 'أقل', 'أكثر', 'ألا', 'إلا', 'التي']"
      ]
     },
     "execution_count": 15,
     "metadata": {},
     "output_type": "execute_result"
    }
   ],
   "source": [
    "ar_sw = stopwords.words('arabic')\n",
    "ar_sw[:10]"
   ]
  },
  {
   "cell_type": "code",
   "execution_count": 16,
   "metadata": {},
   "outputs": [
    {
     "data": {
      "text/plain": [
       "['POS',\n",
       " 'Tagging',\n",
       " 'process',\n",
       " 'mark',\n",
       " 'words',\n",
       " 'text',\n",
       " 'format',\n",
       " 'particular',\n",
       " 'part',\n",
       " 'speech',\n",
       " 'based',\n",
       " 'definition',\n",
       " 'context']"
      ]
     },
     "execution_count": 16,
     "metadata": {},
     "output_type": "execute_result"
    }
   ],
   "source": [
    "clean_tokens =[]\n",
    "for token in tokens:\n",
    "    if token not in en_sw:\n",
    "        clean_tokens.append(token)\n",
    "clean_tokens"
   ]
  },
  {
   "cell_type": "code",
   "execution_count": 18,
   "metadata": {},
   "outputs": [
    {
     "data": {
      "text/plain": [
       "['This',\n",
       " 'is',\n",
       " 'a',\n",
       " 'cooool',\n",
       " '#dummysmiley',\n",
       " ':',\n",
       " ':-)',\n",
       " ':-P',\n",
       " '<3',\n",
       " 'and',\n",
       " 'some',\n",
       " 'arrows',\n",
       " '<',\n",
       " '>',\n",
       " '->',\n",
       " '<--']"
      ]
     },
     "execution_count": 18,
     "metadata": {},
     "output_type": "execute_result"
    }
   ],
   "source": [
    "tknzr = TweetTokenizer()\n",
    "tweet = \"This is a cooool #dummysmiley: :-) :-P <3 and some arrows < > -> <--\"\n",
    "tokens = tknzr.tokenize(tweet)\n",
    "tokens"
   ]
  },
  {
   "cell_type": "code",
   "execution_count": 19,
   "metadata": {},
   "outputs": [
    {
     "data": {
      "text/plain": [
       "['This is a text written.',\n",
       " 'It uses U.S. english to illustrate sentence tokenization.']"
      ]
     },
     "execution_count": 19,
     "metadata": {},
     "output_type": "execute_result"
    }
   ],
   "source": [
    "sentences = 'This is a text written. It uses U.S. english to illustrate sentence tokenization.'\n",
    "sent_tokens = sent_tokenize(sentences)\n",
    "sent_tokens"
   ]
  },
  {
   "cell_type": "code",
   "execution_count": 23,
   "metadata": {},
   "outputs": [
    {
     "name": "stderr",
     "output_type": "stream",
     "text": [
      "[nltk_data] Error loading pos_tag: Package 'pos_tag' not found in\n",
      "[nltk_data]     index\n"
     ]
    },
    {
     "data": {
      "text/plain": [
       "False"
      ]
     },
     "execution_count": 23,
     "metadata": {},
     "output_type": "execute_result"
    }
   ],
   "source": [
    "nltk.download('pos_tag')"
   ]
  },
  {
   "cell_type": "code",
   "execution_count": 24,
   "metadata": {},
   "outputs": [
    {
     "data": {
      "text/plain": [
       "[('This', 'DT'),\n",
       " ('is', 'VBZ'),\n",
       " ('a', 'DT'),\n",
       " ('cooool', 'JJ'),\n",
       " ('#dummysmiley', 'NN'),\n",
       " (':', ':'),\n",
       " (':-)', 'JJ'),\n",
       " (':-P', 'JJ'),\n",
       " ('<3', 'NN'),\n",
       " ('and', 'CC'),\n",
       " ('some', 'DT'),\n",
       " ('arrows', 'NNS'),\n",
       " ('<', 'VBP'),\n",
       " ('>', 'JJ'),\n",
       " ('->', 'CD'),\n",
       " ('<--', 'JJ')]"
      ]
     },
     "execution_count": 24,
     "metadata": {},
     "output_type": "execute_result"
    }
   ],
   "source": [
    "tags = pos_tag(tokens)\n",
    "tags"
   ]
  },
  {
   "cell_type": "code",
   "execution_count": 25,
   "metadata": {},
   "outputs": [
    {
     "data": {
      "text/plain": [
       "[('This', 'DET'),\n",
       " ('is', 'VERB'),\n",
       " ('a', 'DET'),\n",
       " ('cooool', 'ADJ'),\n",
       " ('#dummysmiley', 'NOUN'),\n",
       " (':', '.'),\n",
       " (':-)', 'ADJ'),\n",
       " (':-P', 'ADJ'),\n",
       " ('<3', 'NOUN'),\n",
       " ('and', 'CONJ'),\n",
       " ('some', 'DET'),\n",
       " ('arrows', 'NOUN'),\n",
       " ('<', 'VERB'),\n",
       " ('>', 'ADJ'),\n",
       " ('->', 'NUM'),\n",
       " ('<--', 'ADJ')]"
      ]
     },
     "execution_count": 25,
     "metadata": {},
     "output_type": "execute_result"
    }
   ],
   "source": [
    "tags = pos_tag(tokens, tagset='universal')\n",
    "tags"
   ]
  },
  {
   "cell_type": "code",
   "execution_count": 26,
   "metadata": {},
   "outputs": [
    {
     "data": {
      "text/plain": [
       "['DET',\n",
       " 'VERB',\n",
       " 'DET',\n",
       " 'ADJ',\n",
       " 'NOUN',\n",
       " '.',\n",
       " 'ADJ',\n",
       " 'ADJ',\n",
       " 'NOUN',\n",
       " 'CONJ',\n",
       " 'DET',\n",
       " 'NOUN',\n",
       " 'VERB',\n",
       " 'ADJ',\n",
       " 'NUM',\n",
       " 'ADJ']"
      ]
     },
     "execution_count": 26,
     "metadata": {},
     "output_type": "execute_result"
    }
   ],
   "source": [
    "tags_list =[]\n",
    "for tag in tags:\n",
    "    tags_list.append(tag[1])\n",
    "tags_list"
   ]
  },
  {
   "cell_type": "code",
   "execution_count": 27,
   "metadata": {},
   "outputs": [
    {
     "data": {
      "text/plain": [
       "Counter({'ADJ': 5,\n",
       "         'DET': 3,\n",
       "         'NOUN': 3,\n",
       "         'VERB': 2,\n",
       "         '.': 1,\n",
       "         'CONJ': 1,\n",
       "         'NUM': 1})"
      ]
     },
     "execution_count": 27,
     "metadata": {},
     "output_type": "execute_result"
    }
   ],
   "source": [
    "counts = Counter(tag for tag in tags_list)\n",
    "counts"
   ]
  },
  {
   "cell_type": "code",
   "execution_count": 29,
   "metadata": {},
   "outputs": [
    {
     "data": {
      "text/plain": [
       "Counter({'ADJ': 5,\n",
       "         'DET': 3,\n",
       "         'NOUN': 3,\n",
       "         'VERB': 2,\n",
       "         '.': 1,\n",
       "         'CONJ': 1,\n",
       "         'NUM': 1})"
      ]
     },
     "execution_count": 29,
     "metadata": {},
     "output_type": "execute_result"
    }
   ],
   "source": [
    "counts = Counter(tag for token,tag in tags)\n",
    "counts"
   ]
  },
  {
   "cell_type": "code",
   "execution_count": 30,
   "metadata": {},
   "outputs": [
    {
     "data": {
      "text/plain": [
       "'probabl'"
      ]
     },
     "execution_count": 30,
     "metadata": {},
     "output_type": "execute_result"
    }
   ],
   "source": [
    "porter = PorterStemmer()\n",
    "lancaster  = LancasterStemmer()\n",
    "\n",
    "porter_stem = porter.stem('probably')\n",
    "porter_stem"
   ]
  },
  {
   "cell_type": "code",
   "execution_count": 31,
   "metadata": {},
   "outputs": [
    {
     "data": {
      "text/plain": [
       "'prob'"
      ]
     },
     "execution_count": 31,
     "metadata": {},
     "output_type": "execute_result"
    }
   ],
   "source": [
    "lancaster_stem = lancaster.stem('probably')\n",
    "lancaster_stem"
   ]
  },
  {
   "cell_type": "code",
   "execution_count": 33,
   "metadata": {},
   "outputs": [
    {
     "name": "stdout",
     "output_type": "stream",
     "text": [
      "chang\n",
      "troubl\n",
      "troubl\n",
      "cat\n",
      "charcter\n"
     ]
    }
   ],
   "source": [
    "print(porter.stem('changes'))\n",
    "print(porter.stem('troubling'))\n",
    "print(porter.stem('troubled'))\n",
    "print(porter.stem('cats'))\n",
    "print(porter.stem('charcterization'))\n"
   ]
  },
  {
   "cell_type": "code",
   "execution_count": 34,
   "metadata": {},
   "outputs": [
    {
     "name": "stdout",
     "output_type": "stream",
     "text": [
      "chang\n",
      "troubl\n",
      "troubl\n",
      "cat\n",
      "charct\n"
     ]
    }
   ],
   "source": [
    "print(lancaster.stem('changes'))\n",
    "print(lancaster.stem('troubling'))\n",
    "print(lancaster.stem('troubled'))\n",
    "print(lancaster.stem('cats'))\n",
    "print(lancaster.stem('charcterization'))"
   ]
  },
  {
   "cell_type": "code",
   "execution_count": 35,
   "metadata": {},
   "outputs": [
    {
     "name": "stdout",
     "output_type": "stream",
     "text": [
      "friend               friend               friend\n",
      "friendship           friendship           friend\n",
      "friends              friend               friend\n",
      "friendships          friendship           friend\n",
      "stabil               stabil               stabl\n",
      "destabilize          destabil             dest\n",
      "misunderstanding     misunderstand        misunderstand\n",
      "railroad             railroad             railroad\n",
      "moonlight            moonlight            moonlight\n",
      "football             footbal              footbal\n"
     ]
    }
   ],
   "source": [
    "word_list = [\"friend\", \"friendship\", \"friends\", \"friendships\",\"stabil\", \"destabilize\", \"misunderstanding\", \"railroad\", \"moonlight\", \"football\"]\n",
    "\n",
    "for word in word_list:\n",
    "    print(f'{word:20} {porter.stem(word):20} {lancaster.stem(word)}')\n"
   ]
  },
  {
   "cell_type": "code",
   "execution_count": 37,
   "metadata": {},
   "outputs": [
    {
     "data": {
      "text/plain": [
       "'python are veri intellig , and work veri pythonli and now they are python their way to success .'"
      ]
     },
     "execution_count": 37,
     "metadata": {},
     "output_type": "execute_result"
    }
   ],
   "source": [
    "def stem_sentence(sentence):\n",
    "    tokens = word_tokenize(sentence)\n",
    "    stems = []\n",
    "    for token in tokens:\n",
    "        stems.append(porter.stem(token))\n",
    "    \n",
    "    return \" \".join(stems)\n",
    "\n",
    "sentence = \"Pythoners are very intelligent, and work very pythonly and now they are pythoning their way to success.\"\n",
    "\n",
    "stems = stem_sentence(sentence)\n",
    "stems"
   ]
  }
 ],
 "metadata": {
  "kernelspec": {
   "display_name": "Python 3",
   "language": "python",
   "name": "python3"
  },
  "language_info": {
   "codemirror_mode": {
    "name": "ipython",
    "version": 3
   },
   "file_extension": ".py",
   "mimetype": "text/x-python",
   "name": "python",
   "nbconvert_exporter": "python",
   "pygments_lexer": "ipython3",
   "version": "3.10.1"
  }
 },
 "nbformat": 4,
 "nbformat_minor": 2
}
