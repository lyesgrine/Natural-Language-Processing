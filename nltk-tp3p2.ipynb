{
 "cells": [
  {
   "cell_type": "code",
   "execution_count": 2,
   "metadata": {},
   "outputs": [
    {
     "data": {
      "text/plain": [
       "['random', 'sentenc', 'test', 'function', 'work']"
      ]
     },
     "execution_count": 2,
     "metadata": {},
     "output_type": "execute_result"
    }
   ],
   "source": [
    "import nltk\n",
    "from nltk.tokenize import RegexpTokenizer\n",
    "from nltk.corpus import stopwords\n",
    "from nltk.stem  import PorterStemmer\n",
    "\n",
    "def get_sent_stems(s : str):\n",
    "    \n",
    "    tokenizer = RegexpTokenizer(r'\\w+')\n",
    "    tokens = tokenizer.tokenize(s)\n",
    "    \n",
    "    en_stopwords = stopwords.words('english')\n",
    "    clean = []\n",
    "    for token in tokens:\n",
    "        if token not in en_stopwords:\n",
    "            clean.append(token)\n",
    "    \n",
    "    ret = []\n",
    "    for word in clean:\n",
    "        ret.append(PorterStemmer().stem(word))\n",
    "        \n",
    "    return ret\n",
    "\n",
    "\n",
    "test = 'this is just a random sentence to test if the function is working'\n",
    "first = get_sent_stems(test)\n",
    "first\n",
    "    "
   ]
  },
  {
   "cell_type": "code",
   "execution_count": 3,
   "metadata": {},
   "outputs": [
    {
     "data": {
      "text/plain": [
       "'random sentenc test function work'"
      ]
     },
     "execution_count": 3,
     "metadata": {},
     "output_type": "execute_result"
    }
   ],
   "source": [
    "' '.join(first)"
   ]
  },
  {
   "cell_type": "code",
   "execution_count": null,
   "metadata": {},
   "outputs": [],
   "source": []
  }
 ],
 "metadata": {
  "kernelspec": {
   "display_name": "Python 3",
   "language": "python",
   "name": "python3"
  },
  "language_info": {
   "codemirror_mode": {
    "name": "ipython",
    "version": 3
   },
   "file_extension": ".py",
   "mimetype": "text/x-python",
   "name": "python",
   "nbconvert_exporter": "python",
   "pygments_lexer": "ipython3",
   "version": "3.10.1"
  }
 },
 "nbformat": 4,
 "nbformat_minor": 2
}
