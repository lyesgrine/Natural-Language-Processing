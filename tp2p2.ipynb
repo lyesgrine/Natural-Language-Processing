{
 "cells": [
  {
   "cell_type": "code",
   "execution_count": 4,
   "metadata": {},
   "outputs": [
    {
     "data": {
      "text/plain": [
       "True"
      ]
     },
     "execution_count": 4,
     "metadata": {},
     "output_type": "execute_result"
    }
   ],
   "source": [
    "def isNotASCII(s):\n",
    "    for c in s:\n",
    "        if ord(c) > 128:\n",
    "            return True\n",
    "    return False\n",
    "sen = 'this is a test to see if the function works @ ~ ² é'\n",
    "isNotASCII(sen)"
   ]
  },
  {
   "cell_type": "code",
   "execution_count": 5,
   "metadata": {},
   "outputs": [
    {
     "ename": "UnicodeEncodeError",
     "evalue": "'ascii' codec can't encode character '\\xb2' in position 48: ordinal not in range(128)",
     "output_type": "error",
     "traceback": [
      "\u001b[1;31m---------------------------------------------------------------------------\u001b[0m",
      "\u001b[1;31mUnicodeEncodeError\u001b[0m                        Traceback (most recent call last)",
      "Cell \u001b[1;32mIn[5], line 1\u001b[0m\n\u001b[1;32m----> 1\u001b[0m b \u001b[38;5;241m=\u001b[39m \u001b[43msen\u001b[49m\u001b[38;5;241;43m.\u001b[39;49m\u001b[43mencode\u001b[49m\u001b[43m(\u001b[49m\u001b[38;5;124;43m'\u001b[39;49m\u001b[38;5;124;43mascii\u001b[39;49m\u001b[38;5;124;43m'\u001b[39;49m\u001b[43m)\u001b[49m\n",
      "\u001b[1;31mUnicodeEncodeError\u001b[0m: 'ascii' codec can't encode character '\\xb2' in position 48: ordinal not in range(128)"
     ]
    }
   ],
   "source": [
    "b = sen.encode('ascii')"
   ]
  },
  {
   "cell_type": "code",
   "execution_count": 7,
   "metadata": {},
   "outputs": [
    {
     "data": {
      "text/plain": [
       "b'this is a test to see if the function works @ ~ ? ?'"
      ]
     },
     "execution_count": 7,
     "metadata": {},
     "output_type": "execute_result"
    }
   ],
   "source": [
    "b = sen.encode('ascii' ,errors='replace')\n",
    "b"
   ]
  },
  {
   "cell_type": "code",
   "execution_count": 10,
   "metadata": {},
   "outputs": [
    {
     "name": "stdout",
     "output_type": "stream",
     "text": [
      "Enter a sentance:\n"
     ]
    },
    {
     "data": {
      "text/plain": [
       "{'t': 116, 'h': 104, 'i': 105, 's': 115, ' ': 32, 'a': 97, 'e': 101}"
      ]
     },
     "execution_count": 10,
     "metadata": {},
     "output_type": "execute_result"
    }
   ],
   "source": [
    "print('Enter a sentance:')\n",
    "s = input() \n",
    "r = {}\n",
    "for c in s :\n",
    "    r[c] = ord(c)\n",
    "r"
   ]
  },
  {
   "cell_type": "code",
   "execution_count": 31,
   "metadata": {},
   "outputs": [
    {
     "name": "stdout",
     "output_type": "stream",
     "text": [
      "Enter a sentance:\n"
     ]
    },
    {
     "data": {
      "text/plain": [
       "['I',\n",
       " 'am',\n",
       " \"goin'\",\n",
       " 'to',\n",
       " 'travel',\n",
       " 'to',\n",
       " 'DZ.',\n",
       " 'next',\n",
       " 'Aug',\n",
       " 'hopefully',\n",
       " 'We',\n",
       " 'will',\n",
       " 'see',\n",
       " 'by',\n",
       " 'then']"
      ]
     },
     "execution_count": 31,
     "metadata": {},
     "output_type": "execute_result"
    }
   ],
   "source": [
    "import re\n",
    "def my_tokenizer(text):\n",
    "    \"\"\" stop = ['.',',',';','?','!','\\''] \"\"\"\n",
    "    ignore = ['DZ.','goin\\'','Aug.']\n",
    "    \n",
    "    text = text.split(' ')\n",
    "    ret = []\n",
    "    for word in text:\n",
    "        if word not in ignore:  \n",
    "            temp = re.split('[.,;?!\\']+',word) \n",
    "            if temp[0] != '':\n",
    "                ret.append(temp[0])\n",
    "            \"\"\" for c in word:\n",
    "                if c in stop:\n",
    "                    word = word.replace(c,'') \"\"\"\n",
    "        else:\n",
    "            ret.append(word)\n",
    "            \n",
    "    return ret\n",
    "\n",
    "print('Enter a sentance:')\n",
    "s = input() \n",
    "\"\"\" s = \"I am goin' to travel to DZ. next Aug., hopefully... We will see by then\" \"\"\"\n",
    "my_tokenizer(s)\n",
    "    "
   ]
  },
  {
   "cell_type": "code",
   "execution_count": 32,
   "metadata": {},
   "outputs": [
    {
     "name": "stdout",
     "output_type": "stream",
     "text": [
      "Enter a sentance:\n"
     ]
    },
    {
     "data": {
      "text/plain": [
       "['I',\n",
       " 'am',\n",
       " \"goin'\",\n",
       " 'to',\n",
       " 'travel',\n",
       " 'to',\n",
       " 'DZ.',\n",
       " 'next',\n",
       " 'Aug.',\n",
       " 'hopefully..',\n",
       " 'We',\n",
       " 'will',\n",
       " 'see',\n",
       " 'by',\n",
       " 'then']"
      ]
     },
     "execution_count": 32,
     "metadata": {},
     "output_type": "execute_result"
    }
   ],
   "source": [
    "import re\n",
    "def my_tokenizer(text):\n",
    "    stop = ['.',',',';','?','!','\\'']\n",
    "    ignore = ['DZ.','goin\\'','Aug.']\n",
    "    \n",
    "    text = text.split(' ')\n",
    "    ret = []\n",
    "    for word in text:\n",
    "        if word not in ignore:  \n",
    "            if word[-1] in stop:\n",
    "                ret.append(word[0:len(word)-1])\n",
    "            else:\n",
    "                ret.append(word)\n",
    "                \n",
    "        else:\n",
    "            ret.append(word)\n",
    "            \n",
    "    return ret\n",
    "\n",
    "print('Enter a sentance:')\n",
    "s = input() \n",
    "my_tokenizer(s)\n",
    "    "
   ]
  },
  {
   "cell_type": "code",
   "execution_count": 35,
   "metadata": {},
   "outputs": [
    {
     "name": "stdout",
     "output_type": "stream",
     "text": [
      "\n",
      "  \n",
      "    Exo de-htmliseur\n",
      "  \n",
      "  \n",
      "    Exo de-htmliseur\n",
      "    On souhaite retirer toutes les balises de ce fichier html.\n",
      "  \n",
      "\n",
      "\n"
     ]
    }
   ],
   "source": [
    "import re\n",
    "\n",
    "file = open('./index.html', 'r')\n",
    "\n",
    "full = file.read()\n",
    "\n",
    "text = re.sub('<[^>]*>', '', full)\n",
    "\n",
    "print(text)\n",
    "file.close()"
   ]
  }
 ],
 "metadata": {
  "kernelspec": {
   "display_name": "Python 3",
   "language": "python",
   "name": "python3"
  },
  "language_info": {
   "codemirror_mode": {
    "name": "ipython",
    "version": 3
   },
   "file_extension": ".py",
   "mimetype": "text/x-python",
   "name": "python",
   "nbconvert_exporter": "python",
   "pygments_lexer": "ipython3",
   "version": "3.10.1"
  }
 },
 "nbformat": 4,
 "nbformat_minor": 2
}
